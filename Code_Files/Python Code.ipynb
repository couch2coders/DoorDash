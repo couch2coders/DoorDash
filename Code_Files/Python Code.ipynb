{
 "cells": [
  {
   "cell_type": "markdown",
   "id": "19e75ab5-53f1-4413-8cbf-eec22ff1835c",
   "metadata": {},
   "source": [
    "# Door Dash Case Study"
   ]
  },
  {
   "cell_type": "markdown",
   "id": "e393aa05-65e6-4be2-8057-80b507b93ed8",
   "metadata": {},
   "source": [
    "## Part 1 Data Prep\n",
    "### Library imports"
   ]
  },
  {
   "cell_type": "code",
   "execution_count": 11,
   "id": "0f068d02-e14c-410a-a0ee-3e2df66bad40",
   "metadata": {},
   "outputs": [],
   "source": [
    "import pandas as pd\n",
    "import os"
   ]
  },
  {
   "cell_type": "code",
   "execution_count": null,
   "id": "57fe8611-2c92-4691-9d90-89e16b9bb44f",
   "metadata": {},
   "outputs": [],
   "source": [
    "df = pd.read_csv(\"file.csv\")  # Replace with your file path\n",
    "print(df.head())  # Display first few rows"
   ]
  }
 ],
 "metadata": {
  "kernelspec": {
   "display_name": "Python [conda env:base] *",
   "language": "python",
   "name": "conda-base-py"
  },
  "language_info": {
   "codemirror_mode": {
    "name": "ipython",
    "version": 3
   },
   "file_extension": ".py",
   "mimetype": "text/x-python",
   "name": "python",
   "nbconvert_exporter": "python",
   "pygments_lexer": "ipython3",
   "version": "3.11.7"
  }
 },
 "nbformat": 4,
 "nbformat_minor": 5
}
